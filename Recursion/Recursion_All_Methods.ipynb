{
 "cells": [
  {
   "cell_type": "markdown",
   "metadata": {},
   "source": [
    "\n",
    "Recursion is a programming Technique \n",
    "Its like loop for doing repeatative task.\n",
    "Generally in Recursion threre is  base step and recursive step.\n",
    "In easy words we use the same task as a subtask for several times \n",
    "under the main task. \n"
   ]
  },
  {
   "cell_type": "code",
   "execution_count": null,
   "metadata": {},
   "outputs": [],
   "source": [
    "#link list length\n",
    "class Node:\n",
    "    def __init__(self,elem=None,next=None):\n",
    "        self.elem = elem\n",
    "        self.next = next\n",
    "\n",
    "\n",
    "def printll(head):\n",
    "    var = head\n",
    "    while var!=None:\n",
    "        if var.next!=None:\n",
    "            print('[',var.elem,'|',id(var.next),']',end = ' --> ')\n",
    "        else:\n",
    "            print('[',var.elem,'|','None',']')\n",
    "        var = var.next\n",
    "\n",
    "def lenll(head):\n",
    "    c = 1\n",
    "    if head.next == None:\n",
    "        return 1\n",
    "    else:\n",
    "        return c+(lenll(head.next))\n",
    "    \n",
    "####################\n",
    "a = Node(5)\n",
    "b = Node(6)\n",
    "c = Node(7)\n",
    "d = Node(8)\n",
    "a.next = b\n",
    "b.next = c\n",
    "c.next = d\n",
    "printll(a)\n",
    "print('length of the link list is:', lenll(a))\n"
   ]
  },
  {
   "cell_type": "code",
   "execution_count": null,
   "metadata": {},
   "outputs": [],
   "source": [
    "#factioral\n",
    "def fac(n):\n",
    "    if n==1:\n",
    "        return 1\n",
    "    return n*fac(n-1)\n",
    "\n",
    "'''fac(5) = 120\n",
    "   --5*fac(4) ↰ 5*(24)\n",
    "     --4*fac(3) ↰ 4*(6)\n",
    "       --3*fac(2) ↰ 3*(2*1)\n",
    "        --2*fac(1) ↰ 2*1\n",
    "          --1⇢⇢⇢⇢⇢↰\n",
    "'''\n",
    "\n",
    "print(fac(5))"
   ]
  },
  {
   "cell_type": "code",
   "execution_count": null,
   "metadata": {},
   "outputs": [],
   "source": [
    "#sum of natural number\n",
    "def sum(n):\n",
    "    if n==1:\n",
    "        return 1\n",
    "    return n+sum(n-1)\n",
    "\n",
    "print(sum(5))"
   ]
  },
  {
   "cell_type": "code",
   "execution_count": null,
   "metadata": {},
   "outputs": [],
   "source": [
    "#expoential(power)\n",
    "def power(b,p):\n",
    "    if p==0:\n",
    "        return 1\n",
    "    else:\n",
    "        return b*power(b,p-1)\n",
    "\n",
    "\n",
    "print(power(2,5))"
   ]
  },
  {
   "cell_type": "code",
   "execution_count": null,
   "metadata": {},
   "outputs": [],
   "source": [
    "#fibonacchi\n",
    "\n",
    "'''\n",
    "series : 0 1 1 2 3 5 8 13 21\n",
    "index  : 0 1 2 3 4 5 6 7  8\n",
    "'''\n",
    "\n",
    "def fibo(n):\n",
    "    if n==0 or n==1:\n",
    "        return n\n",
    "    elif n==2:\n",
    "        return 1\n",
    "    else:\n",
    "        return fibo(n-1)+fibo(n-2)\n",
    "\n",
    "print(fibo(3))"
   ]
  }
 ],
 "metadata": {
  "kernelspec": {
   "display_name": "Python 3 (ipykernel)",
   "language": "python",
   "name": "python3"
  },
  "language_info": {
   "codemirror_mode": {
    "name": "ipython",
    "version": 3
   },
   "file_extension": ".py",
   "mimetype": "text/x-python",
   "name": "python",
   "nbconvert_exporter": "python",
   "pygments_lexer": "ipython3",
   "version": "3.11.7"
  }
 },
 "nbformat": 4,
 "nbformat_minor": 4
}
