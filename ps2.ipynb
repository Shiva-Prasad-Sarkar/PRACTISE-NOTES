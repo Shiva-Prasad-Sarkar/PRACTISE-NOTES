{
 "cells": [
  {
   "cell_type": "code",
   "execution_count": null,
   "metadata": {},
   "outputs": [],
   "source": [
    "#5\n",
    "import numpy as np\n",
    "a = np.array([[1,0,3],[1,2,1],[6,7,8]])\n",
    "r,c = a.shape\n",
    "x,y = 0,0\n",
    "for i in range(r):\n",
    "  for j in range(c):\n",
    "    if a[i][j]==0:\n",
    "      x = i\n",
    "      y = j\n",
    "for i in range(r):\n",
    "  for j in range(c):\n",
    "    if i==x or j==y:\n",
    "      a[i][j]= 0\n",
    "print(a)"
   ]
  }
 ],
 "metadata": {
  "language_info": {
   "name": "python"
  }
 },
 "nbformat": 4,
 "nbformat_minor": 2
}
