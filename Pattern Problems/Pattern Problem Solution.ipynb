{
 "cells": [
  {
   "cell_type": "code",
   "execution_count": 1,
   "metadata": {},
   "outputs": [
    {
     "name": "stdout",
     "output_type": "stream",
     "text": [
      " 3\n",
      " 4\n"
     ]
    },
    {
     "name": "stdout",
     "output_type": "stream",
     "text": [
      "1234\n",
      "1234\n",
      "1234\n"
     ]
    }
   ],
   "source": [
    "#1\n",
    "r = int(input())\n",
    "c = int(input())\n",
    "for i in range(r):\n",
    "    for j in range(1,c+1):\n",
    "        print(j,end='')\n",
    "    print()"
   ]
  },
  {
   "cell_type": "code",
   "execution_count": 2,
   "metadata": {},
   "outputs": [
    {
     "name": "stdout",
     "output_type": "stream",
     "text": [
      " 1\n"
     ]
    },
    {
     "name": "stdout",
     "output_type": "stream",
     "text": [
      "\n",
      "*\n"
     ]
    }
   ],
   "source": [
    "#2\n",
    "h = int(input())\n",
    "for i in range(h+1):\n",
    "    print(i*'*')"
   ]
  },
  {
   "cell_type": "code",
   "execution_count": 6,
   "metadata": {},
   "outputs": [
    {
     "name": "stdout",
     "output_type": "stream",
     "text": [
      " 4\n"
     ]
    },
    {
     "name": "stdout",
     "output_type": "stream",
     "text": [
      "1\n",
      "12\n",
      "123\n",
      "1234\n"
     ]
    }
   ],
   "source": [
    "#3\n",
    "h = int(input())\n",
    "for i in range(1,h+1):\n",
    "    for j in range(1,i+1):\n",
    "        print(j,end='')\n",
    "    print()"
   ]
  },
  {
   "cell_type": "code",
   "execution_count": 9,
   "metadata": {},
   "outputs": [
    {
     "name": "stdout",
     "output_type": "stream",
     "text": [
      " 4\n"
     ]
    },
    {
     "name": "stdout",
     "output_type": "stream",
     "text": [
      "   *\n",
      "  **\n",
      " ***\n",
      "****\n"
     ]
    }
   ],
   "source": [
    "#4\n",
    "h = int(input())\n",
    "for i in range(1,h+1):\n",
    "    print((h-i)*' '+i*'*')"
   ]
  },
  {
   "cell_type": "code",
   "execution_count": 10,
   "metadata": {},
   "outputs": [
    {
     "name": "stdout",
     "output_type": "stream",
     "text": [
      " 5\n"
     ]
    },
    {
     "name": "stdout",
     "output_type": "stream",
     "text": [
      "    1\n",
      "   12\n",
      "  123\n",
      " 1234\n",
      "12345\n"
     ]
    }
   ],
   "source": [
    "#5\n",
    "h = int(input())\n",
    "for i in range(1,h+1):\n",
    "    print((h-i)*' ',end='')\n",
    "    for j in range(1,i+1):\n",
    "        print(j,end='')\n",
    "    print()"
   ]
  },
  {
   "cell_type": "code",
   "execution_count": 12,
   "metadata": {},
   "outputs": [
    {
     "name": "stdout",
     "output_type": "stream",
     "text": [
      " 5\n"
     ]
    },
    {
     "name": "stdout",
     "output_type": "stream",
     "text": [
      "    *\n",
      "   ***\n",
      "  *****\n",
      " *******\n",
      "*********\n"
     ]
    }
   ],
   "source": [
    "#6\n",
    "starc = 1\n",
    "h = int(input())\n",
    "for i in range(1,h+1):\n",
    "    print((h-i)*' '+starc*'*')\n",
    "    starc+=2"
   ]
  },
  {
   "cell_type": "code",
   "execution_count": 15,
   "metadata": {},
   "outputs": [
    {
     "name": "stdout",
     "output_type": "stream",
     "text": [
      " 4\n"
     ]
    },
    {
     "name": "stdout",
     "output_type": "stream",
     "text": [
      "   1\n",
      "  123\n",
      " 12345\n",
      "1234567\n"
     ]
    }
   ],
   "source": [
    "#7\n",
    "h = int(input())\n",
    "for i in range(1,h+1):\n",
    "    print((h-i)*' ',end='')\n",
    "    for j in range(1,2*i):\n",
    "        print(j,end='')\n",
    "    print()"
   ]
  },
  {
   "cell_type": "code",
   "execution_count": 17,
   "metadata": {},
   "outputs": [
    {
     "name": "stdout",
     "output_type": "stream",
     "text": [
      " 3\n"
     ]
    },
    {
     "name": "stdout",
     "output_type": "stream",
     "text": [
      "  *\n",
      " ***\n",
      "*****\n",
      " ***\n",
      "  *\n"
     ]
    }
   ],
   "source": [
    "#8\n",
    "h = int(input())\n",
    "for i in range(1,h+1):\n",
    "    print((h-i)*' '+(2*i-1)*'*')\n",
    "for i in range(h-1,0,-1):\n",
    "    print((h-i)*' '+(2*i-1)*'*')\n"
   ]
  },
  {
   "cell_type": "code",
   "execution_count": 19,
   "metadata": {},
   "outputs": [
    {
     "name": "stdout",
     "output_type": "stream",
     "text": [
      " 4\n"
     ]
    },
    {
     "name": "stdout",
     "output_type": "stream",
     "text": [
      "   1\n",
      "  123\n",
      " 12345\n",
      "1234567\n",
      " 12345\n",
      "  123\n",
      "   1\n"
     ]
    }
   ],
   "source": [
    "#9\n",
    "h = int(input())\n",
    "for i in range(1,h+1):\n",
    "    print((h-i)*' ',end='')\n",
    "    for j in range(1,2*i):\n",
    "        print(j,end='')\n",
    "    print()\n",
    "for i in range(h-1,0,-1):\n",
    "    print((h-i)*' ',end='')\n",
    "    for j in range(1,2*i):\n",
    "        print(j,end='')\n",
    "    print()"
   ]
  },
  {
   "cell_type": "code",
   "execution_count": 1,
   "metadata": {},
   "outputs": [
    {
     "name": "stdout",
     "output_type": "stream",
     "text": [
      "*****\n",
      "*   *\n",
      "*   *\n",
      "*****\n"
     ]
    }
   ],
   "source": [
    "#10\n",
    "r = int(input())\n",
    "c = int(input())\n",
    "for i in range(r):\n",
    "    if i==0 or i==r-1:\n",
    "        print(c*'*')\n",
    "    else:\n",
    "        print('*'+(c-2)*' '+'*')"
   ]
  },
  {
   "cell_type": "code",
   "execution_count": 2,
   "metadata": {},
   "outputs": [
    {
     "name": "stdout",
     "output_type": "stream",
     "text": [
      "12345\n",
      "1   5\n",
      "1   5\n",
      "12345\n"
     ]
    }
   ],
   "source": [
    "#11\n",
    "r = int(input())\n",
    "c = int(input())\n",
    "for i in range(r):\n",
    "    if i==0 or i==r-1:\n",
    "        for j in range(1,c+1):\n",
    "            print(j,end='')\n",
    "        print()\n",
    "    else:\n",
    "        print('1'+(c-2)*' '+str(c))\n"
   ]
  },
  {
   "cell_type": "code",
   "execution_count": 3,
   "metadata": {},
   "outputs": [
    {
     "name": "stdout",
     "output_type": "stream",
     "text": [
      "*\n",
      "**\n",
      "* *\n",
      "*  *\n",
      "*   *\n",
      "*    *\n",
      "*******\n"
     ]
    }
   ],
   "source": [
    "#12\n",
    "a = int(input())\n",
    "for i in range(1,a+1):\n",
    "    if i==1 or i==2 or i==a:\n",
    "        print('*'*i)\n",
    "    else:\n",
    "        print('*'+(i-2)*' '+'*')"
   ]
  },
  {
   "cell_type": "code",
   "execution_count": 4,
   "metadata": {},
   "outputs": [
    {
     "name": "stdout",
     "output_type": "stream",
     "text": [
      "1\n",
      "12\n",
      "1 3\n",
      "1  4\n",
      "12345\n"
     ]
    }
   ],
   "source": [
    "#13\n",
    "a = int(input())\n",
    "for i in range(1,a+1):\n",
    "    if i==1 or i==2 or i==a:\n",
    "        for j in range(1,i+1):\n",
    "            print(j,end='')\n",
    "        print()\n",
    "    else:\n",
    "        print('1'+(i-2)*' '+str(i))"
   ]
  },
  {
   "cell_type": "code",
   "execution_count": 5,
   "metadata": {},
   "outputs": [
    {
     "name": "stdout",
     "output_type": "stream",
     "text": [
      "    *\n",
      "   **\n",
      "  * *\n",
      " *  *\n",
      "*****\n"
     ]
    }
   ],
   "source": [
    "#14\n",
    "a = int(input())\n",
    "for i in range(1,a+1):\n",
    "    if i==1 or i==2 or i==a:\n",
    "        print((a-i)*' '+i*'*')\n",
    "    else:\n",
    "        print((a-i)*' '+'*'+(i-2)*' '+'*')"
   ]
  },
  {
   "cell_type": "code",
   "execution_count": 9,
   "metadata": {},
   "outputs": [
    {
     "name": "stdout",
     "output_type": "stream",
     "text": [
      "        1\n",
      "       12\n",
      "      1 3\n",
      "     1  4\n",
      "    1   5\n",
      "   1    6\n",
      "  1     7\n",
      " 1      8\n",
      "123456789\n"
     ]
    }
   ],
   "source": [
    "#15\n",
    "a = int(input())\n",
    "for i in range(1,a+1):\n",
    "    print((a-i)*' ',end='')\n",
    "    if i==1 or i==2 or i==a:\n",
    "        for j in range(1,i+1):\n",
    "            print(j,end='')\n",
    "        print()\n",
    "    else:\n",
    "        print('1'+(i-2)*' '+str(i))"
   ]
  },
  {
   "cell_type": "code",
   "execution_count": 15,
   "metadata": {},
   "outputs": [
    {
     "name": "stdout",
     "output_type": "stream",
     "text": [
      "   1\n",
      "  1 3\n",
      " 1   5\n",
      "1234567\n"
     ]
    }
   ],
   "source": [
    "#16\n",
    "a = int(input())\n",
    "for i in range(1,a+1):\n",
    "    print((a-i)*' ',end='')\n",
    "    if i==1 or i==a:\n",
    "        for j in range(1,2*i):\n",
    "            print(j,end='')\n",
    "        print()\n",
    "    else:\n",
    "        print('1'+(2*i-3)*' '+str(2*i-1))\n"
   ]
  },
  {
   "cell_type": "code",
   "execution_count": 19,
   "metadata": {},
   "outputs": [
    {
     "name": "stdout",
     "output_type": "stream",
     "text": [
      " 1\n",
      "1 3\n",
      " 1\n"
     ]
    }
   ],
   "source": [
    "#17\n",
    "a = int(input())\n",
    "for i in range(1,a+1):\n",
    "    print((a-i)*' ',end='')\n",
    "    if i==1:\n",
    "        print('1')\n",
    "    else:\n",
    "        print('1'+(2*i-3)*' '+str(2*i-1))\n",
    "\n",
    "for i in range(a-1,0,-1):\n",
    "    print((a-i)*' ',end='')\n",
    "    if i==1:\n",
    "        print('1')\n",
    "    else:\n",
    "        print('1'+(2*i-3)*' '+str(2*i-1))\n"
   ]
  },
  {
   "cell_type": "code",
   "execution_count": 21,
   "metadata": {},
   "outputs": [
    {
     "name": "stdout",
     "output_type": "stream",
     "text": [
      "123454321"
     ]
    }
   ],
   "source": [
    "#18\n",
    "a = int(input())\n",
    "for i in range(1,a):\n",
    "    print(i,end='')\n",
    "for j in range(a,0,-1):\n",
    "    print(j,end='')"
   ]
  },
  {
   "cell_type": "code",
   "execution_count": 23,
   "metadata": {},
   "outputs": [
    {
     "name": "stdout",
     "output_type": "stream",
     "text": [
      "###1###\n",
      "##121##\n",
      "#12321#\n",
      "1234321\n"
     ]
    }
   ],
   "source": [
    "#19\n",
    "r = int(input())\n",
    "\n",
    "def palindrome(a):\n",
    "    k = ''\n",
    "    for i in range(1,a):\n",
    "        k+=str(i)\n",
    "    for j in range(a,0,-1):\n",
    "        k+=str(j)\n",
    "    return k\n",
    "\n",
    "for i in range(1,r):\n",
    "    print((r-1-i)*'#'+palindrome(i)+(r-1-i)*'#')\n"
   ]
  },
  {
   "cell_type": "code",
   "execution_count": 24,
   "metadata": {},
   "outputs": [
    {
     "name": "stdout",
     "output_type": "stream",
     "text": [
      "*****\n",
      "   * \n",
      "  *  \n",
      " *   \n",
      "*****\n"
     ]
    }
   ],
   "source": [
    "#20\n",
    "n = int(input())\n",
    "for i in range(1,n+1):\n",
    "    if i==1 or i==n:\n",
    "        print('*'*n)\n",
    "    else:\n",
    "        print((n-i)*' '+'*'+(i-1)*' ')"
   ]
  }
 ],
 "metadata": {
  "kernelspec": {
   "display_name": "Python 3 (ipykernel)",
   "language": "python",
   "name": "python3"
  },
  "language_info": {
   "codemirror_mode": {
    "name": "ipython",
    "version": 3
   },
   "file_extension": ".py",
   "mimetype": "text/x-python",
   "name": "python",
   "nbconvert_exporter": "python",
   "pygments_lexer": "ipython3",
   "version": "3.12.3"
  }
 },
 "nbformat": 4,
 "nbformat_minor": 4
}
