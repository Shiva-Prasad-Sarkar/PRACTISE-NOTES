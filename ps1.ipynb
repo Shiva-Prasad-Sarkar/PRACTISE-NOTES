{
 "cells": [
  {
   "cell_type": "code",
   "execution_count": null,
   "metadata": {},
   "outputs": [],
   "source": [
    "#1\n",
    "import numpy as np\n",
    "a = list(map(int,input().split()))\n",
    "arr1 = list(map(int,input().split()))\n",
    "arr1 = np.array(arr1)\n",
    "arr2 = list(map(int,input().split()))\n",
    "arr2 = np.array(arr2)\n",
    "c = 0\n",
    "arr3 = np.zeros((len(arr1)+len(arr2)),dtype=int)\n",
    "for j in arr1:\n",
    "    if j not in arr3:\n",
    "        arr3[c]=j\n",
    "        c+=1\n",
    "\n",
    "for k in arr2:\n",
    "        if k not in arr3:\n",
    "            arr3[c]=k\n",
    "            c+=1\n",
    "print(c)            "
   ]
  },
  {
   "cell_type": "code",
   "execution_count": null,
   "metadata": {},
   "outputs": [],
   "source": [
    "#2\n",
    "n = int(input())\n",
    "arr1 = list(map(int,input().split()))\n",
    "arr1 = np.array(arr1)\n",
    "arr4 = np.zeros(len(arr1),dtype=int)\n",
    "c = 0\n",
    "\n",
    "for i in arr1:\n",
    "    if i>0:\n",
    "        arr4[c]=i\n",
    "        c+=1      \n",
    "for j in arr1:\n",
    "    if j<0:\n",
    "        arr4[c]=j\n",
    "        c+=1\n",
    "print(arr4)    \n",
    "        "
   ]
  },
  {
   "cell_type": "code",
   "execution_count": null,
   "metadata": {},
   "outputs": [],
   "source": [
    "#3\n",
    "import numpy as np\n",
    "n = int(input())\n",
    "s = int(input())\n",
    "arr1 = list(map(int,input().split()))\n",
    "arr1 = np.array(arr1)\n",
    "p = 0\n",
    "d = 0\n",
    "f = True\n",
    "while f==True:\n",
    "    sum = 0\n",
    "    for i in range(p,len(arr1)):\n",
    "        if sum<s:\n",
    "            sum+=arr1[i]\n",
    "        if sum==s:\n",
    "            d = i\n",
    "            break    \n",
    "        if sum>s:\n",
    "            break\n",
    "    if sum==s:\n",
    "        break\n",
    "    if sum>s:\n",
    "        p+=1\n",
    "print(p+1,d+1)            \n",
    "            \n",
    "        \n",
    "        \n"
   ]
  },
  {
   "cell_type": "code",
   "execution_count": null,
   "metadata": {},
   "outputs": [],
   "source": []
  },
  {
   "cell_type": "code",
   "execution_count": 1,
   "metadata": {},
   "outputs": [
    {
     "name": "stdout",
     "output_type": "stream",
     "text": [
      "[  1   2   3   4   5   9  10  20  21  22  23  24  25  26 101 102 103 104\n",
      " 105 106 107 108 109 110]\n",
      "10\n"
     ]
    }
   ],
   "source": [
    "#14\n",
    "import  numpy as np\n",
    "def sequence(arr):\n",
    "  for j in range(len(arr)):\n",
    "    for k in range(1,len(arr)):\n",
    "      if arr[k-1]>arr[k]:\n",
    "        arr[k-1],arr[k]=arr[k],arr[k-1]\n",
    "  print(arr)\n",
    "  d = 1\n",
    "  max = 0\n",
    "  p = 0\n",
    "  while p<=len(arr):\n",
    "    c = 1\n",
    "    for k in range(d,len(arr)):\n",
    "      if arr[k]-arr[k-1] == 1:\n",
    "        c+=1\n",
    "      else:\n",
    "        break\n",
    "    if c> max:\n",
    "      max = c\n",
    "    p+=c\n",
    "    d+=c\n",
    "    d+=1\n",
    "  return max+1\n",
    "arr = np.array([1,9,3,10,4,20,21,22,23,24,25,26,2,5,101,102,103,105,104,106,107,108,109,110])\n",
    "print(sequence(arr))"
   ]
  }
 ],
 "metadata": {
  "kernelspec": {
   "display_name": "Python 3",
   "language": "python",
   "name": "python3"
  },
  "language_info": {
   "codemirror_mode": {
    "name": "ipython",
    "version": 3
   },
   "file_extension": ".py",
   "mimetype": "text/x-python",
   "name": "python",
   "nbconvert_exporter": "python",
   "pygments_lexer": "ipython3",
   "version": "3.12.3"
  }
 },
 "nbformat": 4,
 "nbformat_minor": 2
}
